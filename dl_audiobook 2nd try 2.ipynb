{
 "cells": [
  {
   "cell_type": "code",
   "execution_count": 4,
   "metadata": {},
   "outputs": [],
   "source": [
    "import numpy as np\n",
    "import tensorflow as tf"
   ]
  },
  {
   "cell_type": "code",
   "execution_count": 5,
   "metadata": {},
   "outputs": [],
   "source": [
    "npz_tr=np.load('Audio_train_data3.npz')\n",
    "train_input=npz_tr['inputs'].astype(np.float)\n",
    "train_target=npz_tr['targets'].astype(np.int)\n",
    "\n",
    "npz_vl=np.load('Audio_val_data3.npz')\n",
    "val_input=npz_vl['inputs'].astype(np.float)\n",
    "val_target=npz_vl['targets'].astype(np.int)\n",
    "\n",
    "npz_ts=np.load('Audio_test_data3.npz')\n",
    "test_input=npz_ts['inputs'].astype(np.float)\n",
    "test_target=npz_ts['targets'].astype(np.int)"
   ]
  },
  {
   "cell_type": "code",
   "execution_count": 9,
   "metadata": {},
   "outputs": [
    {
     "name": "stdout",
     "output_type": "stream",
     "text": [
      "Epoch 1/100\n",
      "36/36 - 0s - loss: 0.5584 - accuracy: 0.7047 - val_loss: 0.4936 - val_accuracy: 0.7315\n",
      "Epoch 2/100\n",
      "36/36 - 0s - loss: 0.4169 - accuracy: 0.7835 - val_loss: 0.4248 - val_accuracy: 0.7875\n",
      "Epoch 3/100\n",
      "36/36 - 0s - loss: 0.3782 - accuracy: 0.7927 - val_loss: 0.4199 - val_accuracy: 0.7539\n",
      "Epoch 4/100\n",
      "36/36 - 0s - loss: 0.3635 - accuracy: 0.8050 - val_loss: 0.4159 - val_accuracy: 0.7606\n",
      "Epoch 5/100\n",
      "36/36 - 0s - loss: 0.3473 - accuracy: 0.8122 - val_loss: 0.3992 - val_accuracy: 0.7629\n",
      "Epoch 6/100\n",
      "36/36 - 0s - loss: 0.3439 - accuracy: 0.8125 - val_loss: 0.3900 - val_accuracy: 0.7673\n",
      "Epoch 7/100\n",
      "36/36 - 0s - loss: 0.3378 - accuracy: 0.8167 - val_loss: 0.3833 - val_accuracy: 0.7830\n",
      "Epoch 8/100\n",
      "36/36 - 0s - loss: 0.3345 - accuracy: 0.8192 - val_loss: 0.4012 - val_accuracy: 0.7696\n",
      "Epoch 9/100\n",
      "36/36 - 0s - loss: 0.3319 - accuracy: 0.8178 - val_loss: 0.3930 - val_accuracy: 0.7740\n"
     ]
    },
    {
     "data": {
      "text/plain": [
       "<tensorflow.python.keras.callbacks.History at 0x2b39c570b08>"
      ]
     },
     "execution_count": 9,
     "metadata": {},
     "output_type": "execute_result"
    }
   ],
   "source": [
    "input_size=10\n",
    "output_size=2\n",
    "hidden_layer_size=100\n",
    "\n",
    "model=tf.keras.Sequential([\n",
    "    tf.keras.layers.Dense(hidden_layer_size,activation='relu'),\n",
    "    tf.keras.layers.Dense(hidden_layer_size,activation='relu'),\n",
    "    tf.keras.layers.Dense(output_size, activation='softmax')\n",
    "])\n",
    "\n",
    "model.compile(optimizer='adam',loss='sparse_categorical_crossentropy',metrics=['accuracy'])\n",
    "\n",
    "batch_size=100\n",
    "max_epochs=100\n",
    "early_stop=tf.keras.callbacks.EarlyStopping(patience=2)\n",
    "model.fit(train_input,\n",
    "         train_target,\n",
    "         batch_size=batch_size,\n",
    "         epochs=max_epochs,\n",
    "         callbacks=[early_stop],\n",
    "         validation_data=(val_input,val_target),\n",
    "         verbose=2)"
   ]
  },
  {
   "cell_type": "code",
   "execution_count": 10,
   "metadata": {},
   "outputs": [
    {
     "name": "stdout",
     "output_type": "stream",
     "text": [
      "14/14 [==============================] - 0s 2ms/step - loss: 0.3334 - accuracy: 0.8103\n"
     ]
    }
   ],
   "source": [
    "test_loss,test_acc=model.evaluate(test_input, test_target)"
   ]
  },
  {
   "cell_type": "code",
   "execution_count": null,
   "metadata": {},
   "outputs": [],
   "source": []
  }
 ],
 "metadata": {
  "kernelspec": {
   "display_name": "Python 3",
   "language": "python",
   "name": "python3"
  },
  "language_info": {
   "codemirror_mode": {
    "name": "ipython",
    "version": 3
   },
   "file_extension": ".py",
   "mimetype": "text/x-python",
   "name": "python",
   "nbconvert_exporter": "python",
   "pygments_lexer": "ipython3",
   "version": "3.7.6"
  }
 },
 "nbformat": 4,
 "nbformat_minor": 4
}
